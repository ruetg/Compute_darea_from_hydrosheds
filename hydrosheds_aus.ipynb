{
 "cells": [
  {
   "cell_type": "markdown",
   "id": "preliminary-dress",
   "metadata": {},
   "source": [
    "## Start by downloading all the hydrosheds flow direction tiles and merging - I found it easiest to merge the tiles in qgis (merge function), or arcgis.  I did this for australia and now have the combined file aus_flowdir.tif which is used below"
   ]
  },
  {
   "cell_type": "code",
   "execution_count": 12,
   "id": "radical-context",
   "metadata": {},
   "outputs": [
    {
     "name": "stdout",
     "output_type": "stream",
     "text": [
      "The autoreload extension is already loaded. To reload it, use:\n",
      "  %reload_ext autoreload\n"
     ]
    }
   ],
   "source": [
    "import numpy as np\n",
    "import matplotlib.pyplot as plt\n",
    "import rasterio as rio\n",
    "from numba import jit\n",
    "%load_ext autoreload\n",
    "%autoreload 2"
   ]
  },
  {
   "cell_type": "markdown",
   "id": "personalized-grave",
   "metadata": {},
   "source": [
    "## Open file using rasterio"
   ]
  },
  {
   "cell_type": "code",
   "execution_count": 18,
   "id": "standing-material",
   "metadata": {},
   "outputs": [],
   "source": [
    "f = rio.open('aus_flowdir.tif')\n",
    "#a = f.read()\n",
    "#a = a.squeeze() # Need to squeeze to remove extra dimension"
   ]
  },
  {
   "cell_type": "markdown",
   "id": "further-terrorist",
   "metadata": {},
   "source": [
    "## The area we are interested in, is actually a bit smaller than the whole area of the geotiff, which includes Australia"
   ]
  },
  {
   "cell_type": "code",
   "execution_count": 56,
   "id": "educational-alexander",
   "metadata": {},
   "outputs": [],
   "source": [
    "a_sub = a[0:35000,0:51000]  "
   ]
  },
  {
   "cell_type": "markdown",
   "id": "announced-rehabilitation",
   "metadata": {},
   "source": [
    "## Need to transform the direction format so that each cell gives the linear index of its downstream neighbor.  The current format is set up so that it only gives the cardinal directions indicated by 0, 255 = outlets (0 ocean, 255 internal), 1 = east draining, then rotate clockwise in the d8 format 2 SE,4 S,8 SW,16 W ,32 NW,64 N, 128 NE."
   ]
  },
  {
   "cell_type": "code",
   "execution_count": 60,
   "id": "actual-river",
   "metadata": {},
   "outputs": [],
   "source": [
    "from numba import jit\n",
    "@jit(nopython=True)\n",
    "\n",
    "def h_flowdir(d):\n",
    "    #Translate flow dir from hydrosheds into flow dir from simplem format\n",
    "    ny, nx = np.shape(d)\n",
    "    s = np.zeros(np.shape(d)) #slopes formatted correctly for simplem\n",
    "    for i in range(ny):\n",
    "        for j in range(nx):\n",
    "            d1 = d[i, j]\n",
    "            if (d1 == 0) or (d1 == 255): #0 is outlet to ocean, 255 is internally drained pour point\n",
    "                s[i, j] = j * ny + i\n",
    "            elif d1 == 1:\n",
    "                s[i, j] = j * ny + i + ny\n",
    "            elif d1 == 2:\n",
    "                s[i, j] = j * ny + i + ny + 1\n",
    "            elif d1 == 4:\n",
    "                s[i, j] = j * ny + i + 1\n",
    "            elif d1 == 8:\n",
    "                s[i, j] = j * ny +i - ny + 1\n",
    "            elif d1 == 16:\n",
    "                s[i, j] = j * ny  +i- ny\n",
    "            elif d1 == 32:\n",
    "                s[i, j] = j * ny +i - ny - 1\n",
    "            elif d1 == 64:\n",
    "                s[i, j] = j * ny + i - 1\n",
    "            elif d1 == 128:\n",
    "                s[i, j] = j * ny + i - 1 + ny\n",
    "            \n",
    "    return s\n",
    "                               \n"
   ]
  },
  {
   "cell_type": "code",
   "execution_count": 61,
   "id": "stuffed-helen",
   "metadata": {},
   "outputs": [],
   "source": [
    "r = h_flowdir(a_sub)"
   ]
  },
  {
   "cell_type": "markdown",
   "id": "above-treasurer",
   "metadata": {},
   "source": [
    "## From the receiver matrix r, we can build the topologic \"stack\" .  See the guide in github.com/ruetg/Simplem to see how this is done.  I've copied the simplem stack function here."
   ]
  },
  {
   "cell_type": "code",
   "execution_count": 6,
   "id": "ruled-strengthening",
   "metadata": {},
   "outputs": [],
   "source": [
    "import math\n",
    "@jit(nopython=True)\n",
    "def lind(xy,n):\n",
    "    #Compute linear index from 2 points\n",
    "    x=math.floor(int(xy)/n)\n",
    "    y=xy%n\n",
    "    return int(y),int(x)\n",
    "\n",
    "@jit(nopython=True)\n",
    "def stack(s):\n",
    "    #This takes the input s and makes the topologic stack of the stream network in O(n) time\n",
    "    c=0\n",
    "    k=0\n",
    "    ny,nx = np.shape(s)\n",
    "    I = np.zeros(ny*nx)\n",
    "    for i in range(ny):\n",
    "        for j in range(nx):\n",
    "\n",
    "            ij = j * ny + i\n",
    "            i2 = i\n",
    "            j2 = j\n",
    "            if s[i, j] == ij:\n",
    "\n",
    "                I[c]=ij\n",
    "                c+=1\n",
    "\n",
    "                while c>k and c < ny * nx - 1 :\n",
    "                    for i1 in range(-1, 2):\n",
    "                        for j1 in range(-1, 2):\n",
    "                                if j2 + j1 > 0 and i2 + i1 > 0 and j2 + j1 < nx - 1 and i2 + i1 < ny - 1:\n",
    "                                    ij2 = (j2 + j1) * ny + i2 + i1\n",
    "                                    #print(s[i2 + i1, j2 + j1])\n",
    "\n",
    "                                    if ij != ij2 and s[int(i2 + i1), int(j2 + j1)] == ij:\n",
    "                                        I[c] = ij2\n",
    "                                        c+=1\n",
    "   \n",
    "                                        #print(i1)\n",
    "                                        #print(j1)\n",
    "\n",
    "\n",
    "                    k=k+1\n",
    "                    ij=I[k]\n",
    "                    i2,j2=lind(ij,ny)\n",
    "        if np.mod(i,1000) == 0:\n",
    "            print(i/ny)\n",
    "    return I\n"
   ]
  },
  {
   "cell_type": "code",
   "execution_count": null,
   "id": "informative-raise",
   "metadata": {},
   "outputs": [],
   "source": [
    "I = stack(r)"
   ]
  },
  {
   "cell_type": "markdown",
   "id": "religious-statement",
   "metadata": {},
   "source": [
    "## At this point it may have been enough computation time to justify saving the stack and receiver vectors in case of a crash ... "
   ]
  },
  {
   "cell_type": "code",
   "execution_count": 64,
   "id": "strange-hours",
   "metadata": {},
   "outputs": [],
   "source": [
    "I = np.int32(I)\n",
    "r = np.int32(r)\n",
    "\n",
    "np.save('stack_r',r)\n",
    "np.save('stack_I',I)"
   ]
  },
  {
   "cell_type": "code",
   "execution_count": 3,
   "id": "affiliated-morning",
   "metadata": {},
   "outputs": [],
   "source": [
    "#r = np.load('stack_r.npy')\n",
    "#I = np.load('stack_I.npy')"
   ]
  },
  {
   "cell_type": "markdown",
   "id": "curious-surrey",
   "metadata": {},
   "source": [
    "## Compute the drainage area in units of cells summing downstream along the stack"
   ]
  },
  {
   "cell_type": "code",
   "execution_count": 8,
   "id": "psychological-logging",
   "metadata": {},
   "outputs": [],
   "source": [
    "@jit(nopython=True)\n",
    "def acc(s,I):#Calculate drainage area\n",
    "    A = np.ones(np.shape(s))\n",
    "    ny,nx = np.shape(s)\n",
    "    for ij in range(len(I)-1,0,-1):\n",
    "        i,j=lind(I[ij],ny)\n",
    "        i2,j2=lind(int(s[i,j]),ny)\n",
    "        if I[ij] != s[i,j]:\n",
    "            A[i2,j2] += A[i,j]\n",
    "    return A"
   ]
  },
  {
   "cell_type": "code",
   "execution_count": 9,
   "id": "cordless-transport",
   "metadata": {},
   "outputs": [],
   "source": [
    "A = acc(r,I)"
   ]
  },
  {
   "cell_type": "markdown",
   "id": "metropolitan-mainland",
   "metadata": {},
   "source": [
    "## Now can save the drainage area as geotiff"
   ]
  },
  {
   "cell_type": "code",
   "execution_count": 20,
   "id": "satisfied-gibraltar",
   "metadata": {},
   "outputs": [],
   "source": [
    "w = f.profile"
   ]
  },
  {
   "cell_type": "code",
   "execution_count": 21,
   "id": "basic-martial",
   "metadata": {},
   "outputs": [],
   "source": [
    "ny,nx = np.shape(A)"
   ]
  },
  {
   "cell_type": "code",
   "execution_count": 22,
   "id": "democratic-flesh",
   "metadata": {},
   "outputs": [],
   "source": [
    "w['width'] = nx\n",
    "w['height'] = ny\n"
   ]
  },
  {
   "cell_type": "code",
   "execution_count": 73,
   "id": "palestinian-validation",
   "metadata": {},
   "outputs": [],
   "source": [
    "with rio.open('acc.tif', 'w', **w) as dst:\n",
    "    dst.write(A.astype(rio.int32), 1)"
   ]
  },
  {
   "cell_type": "code",
   "execution_count": 23,
   "id": "according-month",
   "metadata": {},
   "outputs": [],
   "source": [
    "f.close()\n"
   ]
  },
  {
   "cell_type": "markdown",
   "id": "seeing-marijuana",
   "metadata": {},
   "source": [
    "## Chi is calculated based exclusively on drainage area - see Willett et al., 2014 for eqns."
   ]
  },
  {
   "cell_type": "code",
   "execution_count": 10,
   "id": "hydraulic-ownership",
   "metadata": {},
   "outputs": [],
   "source": [
    "@jit(nopython=True)\n",
    "def chicalc(s,I,A):\n",
    "    m = .5 # concavity for SP equation, may need to be modified\n",
    "    dx = dy = 90 # Meters, approximate cell size\n",
    "    ny, nx = np.shape(r)\n",
    "    chi = np.zeros((ny, nx))\n",
    "\n",
    "    dA= (dx * dy) ** m\n",
    "\n",
    "    for ij in range(len(I)):\n",
    "        i, j = lind( I[ij], ny)\n",
    "        i2, j2= lind( s[i,j], ny)\n",
    "        chi[i, j] = 1 / (A[i, j] ** m * dA)\n",
    "        chi[i, j] += chi[i2, j2]\n",
    "    return chi\n",
    "        "
   ]
  },
  {
   "cell_type": "code",
   "execution_count": 15,
   "id": "structural-template",
   "metadata": {},
   "outputs": [],
   "source": [
    "chi = chicalc(r,I,A)"
   ]
  },
  {
   "cell_type": "code",
   "execution_count": 32,
   "id": "severe-southeast",
   "metadata": {},
   "outputs": [],
   "source": [
    "chi*=10000"
   ]
  },
  {
   "cell_type": "code",
   "execution_count": 33,
   "id": "comprehensive-making",
   "metadata": {},
   "outputs": [],
   "source": [
    "w['dtype'] = 'int32'\n",
    "with rio.open('chi.tif', 'w', **w) as dst:\n",
    "    dst.write(chi.astype(rio.int32), 1)"
   ]
  },
  {
   "cell_type": "code",
   "execution_count": 29,
   "id": "other-monster",
   "metadata": {},
   "outputs": [
    {
     "data": {
      "text/plain": [
       "0.0"
      ]
     },
     "execution_count": 29,
     "metadata": {},
     "output_type": "execute_result"
    }
   ],
   "source": [
    "np.min(chi)"
   ]
  },
  {
   "cell_type": "code",
   "execution_count": null,
   "id": "cooperative-national",
   "metadata": {},
   "outputs": [],
   "source": []
  }
 ],
 "metadata": {
  "kernelspec": {
   "display_name": "Python 3",
   "language": "python",
   "name": "python3"
  },
  "language_info": {
   "codemirror_mode": {
    "name": "ipython",
    "version": 3
   },
   "file_extension": ".py",
   "mimetype": "text/x-python",
   "name": "python",
   "nbconvert_exporter": "python",
   "pygments_lexer": "ipython3",
   "version": "3.9.2"
  }
 },
 "nbformat": 4,
 "nbformat_minor": 5
}
